{
 "cells": [
  {
   "cell_type": "code",
   "execution_count": 16,
   "metadata": {},
   "outputs": [],
   "source": [
    "import logging\n",
    "import torch\n",
    "import io\n",
    "import re \n",
    "from torchtext.utils import download_from_url, extract_archive, unicode_csv_reader\n",
    "from torchtext.data.utils import ngrams_iterator\n",
    "from torchtext.data.utils import get_tokenizer\n",
    "from torchtext.vocab import build_vocab_from_iterator\n",
    "from torchtext.vocab import Vocab\n",
    "from tqdm import tqdm"
   ]
  },
  {
   "cell_type": "code",
   "execution_count": 17,
   "metadata": {},
   "outputs": [],
   "source": [
    "def _csv_iterator(data_path, ngrams, yield_cls=False):\n",
    "    male='-1334371409'\n",
    "    female='1893846424'\n",
    "    tokenizer = get_tokenizer(\"basic_english\")\n",
    "    with io.open(data_path, encoding=\"utf8\") as f:\n",
    "        reader = unicode_csv_reader(f)\n",
    "        i =-1\n",
    "        for row in reader:\n",
    "            segment=None\n",
    "            gender=None\n",
    "            i=i+1\n",
    "            \n",
    "            if(i > 0) :\n",
    "                res = None\n",
    "                try:\n",
    "                    result = row[6].index(male)  \n",
    "                    res = re.sub(male, '', row[6])\n",
    "                    gender=0\n",
    "                except:\n",
    "                    res = re.sub(female, '', row[6])\n",
    "                    gender=1\n",
    "                    \n",
    "                row_data = row[1]+ \" \"+ row[4]+ \" \"+ row[5]+ \" \"+ res\n",
    "                tokens = ' '.join(row_data)\n",
    "                tokens = tokenizer(tokens)\n",
    "                if yield_cls:\n",
    "                    yield gender, ngrams_iterator(tokens, ngrams)\n",
    "                else:\n",
    "                    yield ngrams_iterator(tokens, ngrams)"
   ]
  },
  {
   "cell_type": "code",
   "execution_count": 23,
   "metadata": {},
   "outputs": [],
   "source": [
    "def _create_data_from_iterator(vocab, iterator, include_unk):\n",
    "    data = []\n",
    "    labels = []\n",
    "    with tqdm(unit_scale=0, unit='lines') as t:\n",
    "        for cls, tokens in iterator:\n",
    "            #print(cls, tokens)\n",
    "            if include_unk:\n",
    "                tokens = torch.tensor([vocab[token] for token in tokens])\n",
    "            else:\n",
    "                token_ids = list(filter(lambda x: x is not Vocab.UNK, [vocab[token]\n",
    "                                        for token in tokens]))\n",
    "                tokens = torch.tensor(token_ids)\n",
    "            if len(tokens) == 0:\n",
    "                logging.info('Row contains no tokens.')\n",
    "            data.append((cls, tokens))\n",
    "            labels.append(cls)\n",
    "            t.update(1)\n",
    "    return data, set(labels)"
   ]
  },
  {
   "cell_type": "code",
   "execution_count": 24,
   "metadata": {},
   "outputs": [],
   "source": [
    "class TextClassificationDataset(torch.utils.data.Dataset):\n",
    "    def __init__(self, vocab, data, labels):\n",
    "        super(TextClassificationDataset, self).__init__()\n",
    "        self._data = data\n",
    "        self._labels = labels\n",
    "        self._vocab = vocab\n",
    "    def __getitem__(self, i):\n",
    "        return self._data[i]\n",
    "\n",
    "    def __len__(self):\n",
    "        return len(self._data)\n",
    "\n",
    "    def __iter__(self):\n",
    "        for x in self._data:\n",
    "            yield x\n",
    "\n",
    "    def get_labels(self):\n",
    "        return self._labels\n",
    "\n",
    "    def get_vocab(self):\n",
    "        return self._vocab"
   ]
  },
  {
   "cell_type": "code",
   "execution_count": 56,
   "metadata": {},
   "outputs": [],
   "source": [
    "def _setup_datasets( root='/Users/navin/Desktop/test/segment/data/seg/', ngrams=1, vocab=None, include_unk=False):\n",
    "    #dataset_tar = download_from_url(URLS[dataset_name], root=root)\n",
    "    #extracted_files = extract_archive(dataset_tar)\n",
    "    extracted_files =['/Users/navin/Desktop/test/segment/data/seg/train.csv','/Users/navin/Desktop/test/segment/data/seg/test.csv']\n",
    "    for fname in extracted_files:\n",
    "        if fname.endswith('train.csv'):\n",
    "            train_csv_path = fname\n",
    "            print(train_csv_path)\n",
    "        if fname.endswith('test.csv'):\n",
    "            test_csv_path = fname\n",
    "            print(test_csv_path)\n",
    "\n",
    "    if vocab is None:\n",
    "        logging.info('Building Vocab based on {}'.format(train_csv_path))\n",
    "        vocab = build_vocab_from_iterator(_csv_iterator(train_csv_path, ngrams))\n",
    "    else:\n",
    "        if not isinstance(vocab, Vocab):\n",
    "            raise TypeError(\"Passed vocabulary is not of type Vocab\")\n",
    "    logging.info('Vocab has {} entries'.format(len(vocab)))\n",
    "    logging.info('Creating training data')\n",
    "    train_data, train_labels = _create_data_from_iterator(\n",
    "        vocab, _csv_iterator(train_csv_path, ngrams, yield_cls=True), include_unk)\n",
    "    logging.info('Creating testing data')\n",
    "    test_data, test_labels = _create_data_from_iterator(\n",
    "        vocab, _csv_iterator(test_csv_path, ngrams, yield_cls=True), include_unk)\n",
    "    if len(train_labels ^ test_labels) > 0:\n",
    "        raise ValueError(\"Training and test labels don't match\")\n",
    "    return (TextClassificationDataset(vocab, train_data, train_labels),\n",
    "            TextClassificationDataset(vocab, test_data, test_labels))"
   ]
  },
  {
   "cell_type": "code",
   "execution_count": null,
   "metadata": {},
   "outputs": [],
   "source": []
  },
  {
   "cell_type": "code",
   "execution_count": 57,
   "metadata": {},
   "outputs": [
    {
     "name": "stderr",
     "output_type": "stream",
     "text": [
      "1135lines [00:00, 9550.98lines/s]\n",
      "0lines [00:00, ?lines/s]"
     ]
    },
    {
     "name": "stdout",
     "output_type": "stream",
     "text": [
      "/Users/navin/Desktop/test/segment/data/seg/train.csv\n",
      "/Users/navin/Desktop/test/segment/data/seg/test.csv\n"
     ]
    },
    {
     "name": "stderr",
     "output_type": "stream",
     "text": [
      "1135lines [00:00, 4175.22lines/s]\n",
      "1000lines [00:00, 3813.49lines/s]\n"
     ]
    }
   ],
   "source": [
    "#train_dataset, test_dataset= TextClassificationDataset()\n",
    "NGRAMS = 1\n",
    "train_dataset, test_dataset =_setup_datasets(root='/Users/navin/Desktop/test/segment/data/seg/data/', ngrams=NGRAMS, vocab=None)"
   ]
  },
  {
   "cell_type": "code",
   "execution_count": 67,
   "metadata": {},
   "outputs": [],
   "source": [
    "import torch.nn as nn\n",
    "import torch.nn.functional as F\n",
    "class TextClassification(nn.Module):\n",
    "    def __init__(self, vocab_size, embed_dim, num_class):\n",
    "        super().__init__()\n",
    "        self.embedding = nn.EmbeddingBag(vocab_size, embed_dim, sparse=True)\n",
    "        self.fc = nn.Linear(embed_dim, num_class)\n",
    "        self.init_weights()\n",
    "\n",
    "    def init_weights(self):\n",
    "        initrange = 0.5\n",
    "        self.embedding.weight.data.uniform_(-initrange, initrange)\n",
    "        self.fc.weight.data.uniform_(-initrange, initrange)\n",
    "        self.fc.bias.data.zero_()\n",
    "\n",
    "    def forward(self, text, offsets):\n",
    "        embedded = self.embedding(text, offsets)\n",
    "        return self.fc(embedded)"
   ]
  },
  {
   "cell_type": "code",
   "execution_count": 68,
   "metadata": {},
   "outputs": [
    {
     "name": "stdout",
     "output_type": "stream",
     "text": [
      "NUN_CLASS 2 {0, 1}\n"
     ]
    }
   ],
   "source": [
    "device = torch.device(\"cuda\" if torch.cuda.is_available() else \"cpu\")\n",
    "VOCAB_SIZE = len(train_dataset.get_vocab())\n",
    "EMBED_DIM = 1024\n",
    "NUN_CLASS = len(train_dataset.get_labels())\n",
    "print(\"NUN_CLASS\",NUN_CLASS,train_dataset.get_labels())\n",
    "model = TextClassification(VOCAB_SIZE, EMBED_DIM, NUN_CLASS).to(device)\n",
    "BATCH_SIZE = 32\n"
   ]
  },
  {
   "cell_type": "code",
   "execution_count": 69,
   "metadata": {},
   "outputs": [],
   "source": [
    "def generate_batch(batch):\n",
    "    label = torch.tensor([entry[0] for entry in batch])\n",
    "    text = [entry[1] for entry in batch]\n",
    "    offsets = [0] + [len(entry) for entry in text]\n",
    "    offsets = torch.tensor(offsets[:-1]).cumsum(dim=0)\n",
    "    text = torch.cat(text)\n",
    "    return text, offsets, label"
   ]
  },
  {
   "cell_type": "code",
   "execution_count": 70,
   "metadata": {},
   "outputs": [],
   "source": [
    "from torch.utils.data import DataLoader\n",
    "\n",
    "def train_func(sub_train_):\n",
    "\n",
    "    # Train the model\n",
    "    train_loss = 0\n",
    "    train_acc = 0\n",
    "    data = DataLoader(sub_train_, batch_size=BATCH_SIZE, shuffle=True,\n",
    "                      collate_fn=generate_batch)\n",
    "    for i, (text, offsets, cls) in enumerate(data):\n",
    "        #print(text, offsets, cls)\n",
    "        optimizer.zero_grad()\n",
    "        text, offsets, cls = text.to(device), offsets.to(device), cls.to(device)\n",
    "        output = model(text, offsets)\n",
    "        loss = criterion(output, cls)\n",
    "        train_loss += loss.item()\n",
    "        loss.backward()\n",
    "        optimizer.step()\n",
    "        train_acc += (output.argmax(1) == cls).sum().item()\n",
    "\n",
    "    # Adjust the learning rate\n",
    "    scheduler.step()\n",
    "\n",
    "    return train_loss / len(sub_train_), train_acc / len(sub_train_)\n",
    "\n",
    "def test(data_):\n",
    "    loss = 0\n",
    "    acc = 0\n",
    "    data = DataLoader(data_, batch_size=BATCH_SIZE, collate_fn=generate_batch)\n",
    "    for text, offsets, cls in data:\n",
    "        text, offsets, cls = text.to(device), offsets.to(device), cls.to(device)\n",
    "        with torch.no_grad():\n",
    "            output = model(text, offsets)\n",
    "            loss = criterion(output, cls)\n",
    "            loss += loss.item()\n",
    "            acc += (output.argmax(1) == cls).sum().item()\n",
    "\n",
    "    return loss / len(data_), acc / len(data_)"
   ]
  },
  {
   "cell_type": "code",
   "execution_count": 71,
   "metadata": {},
   "outputs": [
    {
     "name": "stdout",
     "output_type": "stream",
     "text": [
      "Epoch: 1  | time in 0 minutes, 0 seconds\n",
      "\tLoss: 0.0544(train)\t|\tAcc: 61.1%(train)\n",
      "\tLoss: 0.0279(valid)\t|\tAcc: 54.4%(valid)\n",
      "Epoch: 2  | time in 0 minutes, 0 seconds\n",
      "\tLoss: 0.0260(train)\t|\tAcc: 57.7%(train)\n",
      "\tLoss: 0.0309(valid)\t|\tAcc: 45.6%(valid)\n",
      "Epoch: 3  | time in 0 minutes, 0 seconds\n",
      "\tLoss: 0.0245(train)\t|\tAcc: 57.2%(train)\n",
      "\tLoss: 0.0188(valid)\t|\tAcc: 96.5%(valid)\n",
      "Epoch: 4  | time in 0 minutes, 0 seconds\n",
      "\tLoss: 0.0224(train)\t|\tAcc: 63.1%(train)\n",
      "\tLoss: 0.0190(valid)\t|\tAcc: 84.2%(valid)\n",
      "Epoch: 5  | time in 0 minutes, 0 seconds\n",
      "\tLoss: 0.0208(train)\t|\tAcc: 61.1%(train)\n",
      "\tLoss: 0.0518(valid)\t|\tAcc: 45.6%(valid)\n",
      "Epoch: 6  | time in 0 minutes, 0 seconds\n",
      "\tLoss: 0.0198(train)\t|\tAcc: 69.7%(train)\n",
      "\tLoss: 0.0295(valid)\t|\tAcc: 45.6%(valid)\n",
      "Epoch: 7  | time in 0 minutes, 0 seconds\n",
      "\tLoss: 0.0170(train)\t|\tAcc: 72.0%(train)\n",
      "\tLoss: 0.0153(valid)\t|\tAcc: 93.0%(valid)\n",
      "Epoch: 8  | time in 0 minutes, 0 seconds\n",
      "\tLoss: 0.0157(train)\t|\tAcc: 73.8%(train)\n",
      "\tLoss: 0.0385(valid)\t|\tAcc: 54.4%(valid)\n",
      "Epoch: 9  | time in 0 minutes, 0 seconds\n",
      "\tLoss: 0.0147(train)\t|\tAcc: 76.7%(train)\n",
      "\tLoss: 0.0243(valid)\t|\tAcc: 61.4%(valid)\n",
      "Epoch: 10  | time in 0 minutes, 0 seconds\n",
      "\tLoss: 0.0114(train)\t|\tAcc: 85.4%(train)\n",
      "\tLoss: 0.0142(valid)\t|\tAcc: 93.0%(valid)\n",
      "Epoch: 11  | time in 0 minutes, 0 seconds\n",
      "\tLoss: 0.0121(train)\t|\tAcc: 85.7%(train)\n",
      "\tLoss: 0.0145(valid)\t|\tAcc: 93.0%(valid)\n",
      "Epoch: 12  | time in 0 minutes, 0 seconds\n",
      "\tLoss: 0.0102(train)\t|\tAcc: 87.0%(train)\n",
      "\tLoss: 0.0142(valid)\t|\tAcc: 93.0%(valid)\n",
      "Epoch: 13  | time in 0 minutes, 0 seconds\n",
      "\tLoss: 0.0096(train)\t|\tAcc: 88.2%(train)\n",
      "\tLoss: 0.0146(valid)\t|\tAcc: 93.0%(valid)\n",
      "Epoch: 14  | time in 0 minutes, 0 seconds\n",
      "\tLoss: 0.0100(train)\t|\tAcc: 89.9%(train)\n",
      "\tLoss: 0.0144(valid)\t|\tAcc: 93.0%(valid)\n",
      "Epoch: 15  | time in 0 minutes, 0 seconds\n",
      "\tLoss: 0.0086(train)\t|\tAcc: 91.1%(train)\n",
      "\tLoss: 0.0140(valid)\t|\tAcc: 93.0%(valid)\n",
      "Epoch: 16  | time in 0 minutes, 0 seconds\n",
      "\tLoss: 0.0086(train)\t|\tAcc: 91.4%(train)\n",
      "\tLoss: 0.0140(valid)\t|\tAcc: 93.0%(valid)\n",
      "Epoch: 17  | time in 0 minutes, 0 seconds\n",
      "\tLoss: 0.0081(train)\t|\tAcc: 91.9%(train)\n",
      "\tLoss: 0.0142(valid)\t|\tAcc: 93.0%(valid)\n",
      "Epoch: 18  | time in 0 minutes, 0 seconds\n",
      "\tLoss: 0.0079(train)\t|\tAcc: 91.7%(train)\n",
      "\tLoss: 0.0147(valid)\t|\tAcc: 93.0%(valid)\n",
      "Epoch: 19  | time in 0 minutes, 0 seconds\n",
      "\tLoss: 0.0079(train)\t|\tAcc: 92.0%(train)\n",
      "\tLoss: 0.0153(valid)\t|\tAcc: 96.5%(valid)\n",
      "Epoch: 20  | time in 0 minutes, 0 seconds\n",
      "\tLoss: 0.0078(train)\t|\tAcc: 91.6%(train)\n",
      "\tLoss: 0.0143(valid)\t|\tAcc: 93.0%(valid)\n",
      "Epoch: 21  | time in 0 minutes, 0 seconds\n",
      "\tLoss: 0.0077(train)\t|\tAcc: 91.7%(train)\n",
      "\tLoss: 0.0168(valid)\t|\tAcc: 96.5%(valid)\n",
      "Epoch: 22  | time in 0 minutes, 0 seconds\n",
      "\tLoss: 0.0076(train)\t|\tAcc: 92.0%(train)\n",
      "\tLoss: 0.0139(valid)\t|\tAcc: 93.0%(valid)\n",
      "Epoch: 23  | time in 0 minutes, 0 seconds\n",
      "\tLoss: 0.0075(train)\t|\tAcc: 91.8%(train)\n",
      "\tLoss: 0.0140(valid)\t|\tAcc: 93.0%(valid)\n",
      "Epoch: 24  | time in 0 minutes, 0 seconds\n",
      "\tLoss: 0.0075(train)\t|\tAcc: 91.7%(train)\n",
      "\tLoss: 0.0142(valid)\t|\tAcc: 96.5%(valid)\n",
      "Epoch: 25  | time in 0 minutes, 0 seconds\n",
      "\tLoss: 0.0074(train)\t|\tAcc: 92.1%(train)\n",
      "\tLoss: 0.0139(valid)\t|\tAcc: 93.0%(valid)\n",
      "Epoch: 26  | time in 0 minutes, 0 seconds\n",
      "\tLoss: 0.0073(train)\t|\tAcc: 92.1%(train)\n",
      "\tLoss: 0.0140(valid)\t|\tAcc: 93.0%(valid)\n",
      "Epoch: 27  | time in 0 minutes, 0 seconds\n",
      "\tLoss: 0.0072(train)\t|\tAcc: 91.8%(train)\n",
      "\tLoss: 0.0139(valid)\t|\tAcc: 93.0%(valid)\n",
      "Epoch: 28  | time in 0 minutes, 0 seconds\n",
      "\tLoss: 0.0072(train)\t|\tAcc: 91.5%(train)\n",
      "\tLoss: 0.0139(valid)\t|\tAcc: 93.0%(valid)\n",
      "Epoch: 29  | time in 0 minutes, 0 seconds\n",
      "\tLoss: 0.0071(train)\t|\tAcc: 91.9%(train)\n",
      "\tLoss: 0.0140(valid)\t|\tAcc: 93.0%(valid)\n",
      "Epoch: 30  | time in 0 minutes, 0 seconds\n",
      "\tLoss: 0.0071(train)\t|\tAcc: 92.1%(train)\n",
      "\tLoss: 0.0139(valid)\t|\tAcc: 93.0%(valid)\n"
     ]
    }
   ],
   "source": [
    "import time\n",
    "from torch.utils.data.dataset import random_split\n",
    "N_EPOCHS = 30\n",
    "min_valid_loss = float('inf')\n",
    "\n",
    "criterion = torch.nn.CrossEntropyLoss().to(device)\n",
    "optimizer = torch.optim.SGD(model.parameters(), lr=4.0)\n",
    "scheduler = torch.optim.lr_scheduler.StepLR(optimizer, 1, gamma=0.9)\n",
    "\n",
    "train_len = int(len(train_dataset) * 0.95)\n",
    "sub_train_, sub_valid_ = \\\n",
    "    random_split(train_dataset, [train_len, len(train_dataset) - train_len])\n",
    "\n",
    "for epoch in range(N_EPOCHS):\n",
    "\n",
    "    start_time = time.time()\n",
    "    train_loss, train_acc = train_func(sub_train_)\n",
    "    valid_loss, valid_acc = test(sub_valid_)\n",
    "\n",
    "    secs = int(time.time() - start_time)\n",
    "    mins = secs / 60\n",
    "    secs = secs % 60\n",
    "\n",
    "    print('Epoch: %d' %(epoch + 1), \" | time in %d minutes, %d seconds\" %(mins, secs))\n",
    "    print(f'\\tLoss: {train_loss:.4f}(train)\\t|\\tAcc: {train_acc * 100:.1f}%(train)')\n",
    "    print(f'\\tLoss: {valid_loss:.4f}(valid)\\t|\\tAcc: {valid_acc * 100:.1f}%(valid)')"
   ]
  },
  {
   "cell_type": "code",
   "execution_count": 72,
   "metadata": {},
   "outputs": [],
   "source": [
    "test_data = DataLoader(test_dataset, batch_size=1, shuffle=True,collate_fn=generate_batch)"
   ]
  },
  {
   "cell_type": "code",
   "execution_count": 75,
   "metadata": {},
   "outputs": [
    {
     "data": {
      "text/plain": [
       "<torchtext.vocab.Vocab at 0x1234f2ef0>"
      ]
     },
     "execution_count": 75,
     "metadata": {},
     "output_type": "execute_result"
    }
   ],
   "source": [
    "vocab"
   ]
  },
  {
   "cell_type": "code",
   "execution_count": 101,
   "metadata": {},
   "outputs": [],
   "source": [
    "tokenizer = get_tokenizer(\"basic_english\")\n",
    "y_test=[] \n",
    "y_pred =[]\n",
    "for i, (text, offsets, cls) in enumerate(test_data):\n",
    "    output = model(text, offsets)\n",
    "    y_pred.append( output.argmax(1).item())\n",
    "    y_test.append( cls.data[0].item())\n",
    "    #print( output.argmax(1).item(),cls.data[0].item())\n",
    "    "
   ]
  },
  {
   "cell_type": "code",
   "execution_count": 104,
   "metadata": {},
   "outputs": [
    {
     "name": "stdout",
     "output_type": "stream",
     "text": [
      "Accuracy on Test Data is  0.85\n"
     ]
    },
    {
     "data": {
      "text/plain": [
       "array([[383,  55],\n",
       "       [ 95, 467]])"
      ]
     },
     "execution_count": 104,
     "metadata": {},
     "output_type": "execute_result"
    }
   ],
   "source": [
    "from sklearn.metrics import confusion_matrix\n",
    "from sklearn.metrics import accuracy_score\n",
    "print(\"Accuracy on Test Data is \", accuracy_score(y_test, y_pred))\n",
    "confusion_matrix(y_test, y_pred)"
   ]
  }
 ],
 "metadata": {
  "kernelspec": {
   "display_name": "Python 3",
   "language": "python",
   "name": "python3"
  },
  "language_info": {
   "codemirror_mode": {
    "name": "ipython",
    "version": 3
   },
   "file_extension": ".py",
   "mimetype": "text/x-python",
   "name": "python",
   "nbconvert_exporter": "python",
   "pygments_lexer": "ipython3",
   "version": "3.7.0"
  }
 },
 "nbformat": 4,
 "nbformat_minor": 4
}
